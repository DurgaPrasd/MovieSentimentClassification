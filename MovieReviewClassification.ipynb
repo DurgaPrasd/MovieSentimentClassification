{
 "cells": [
  {
   "cell_type": "markdown",
   "metadata": {},
   "source": [
    "# Sentiment classification of the Standford Movie Review Database"
   ]
  },
  {
   "cell_type": "markdown",
   "metadata": {},
   "source": [
    "In this tutorial we will be using the handlabelled Standford [movie review database](https://www.cs.cornell.edu/people/pabo/movie-review-data/) (0) to build a sentiment classifier. Our work will highlight how to use [Jupyter Notebooks](https://jupyter.org/) with Python, [Scikit-learn](http://scikit-learn.org/), and [Pandas](http://pandas.pydata.org/) (including [Numpy](http://www.numpy.org/)) to build and crossvalidate a sentiment classifier. We will also throw in a bit of EDA with the help of [Matplotlib](http://matplotlib.org/) and [Seaborn](http://seaborn.pydata.org).\n",
    "\n",
    "Make sure you have downloaded the movie review data base into the same directory as this notebook under 'review_polarity' (leave the remaining directory file structure intact), and have all the necessary python modules (Numpy, Pandas, Seaborn, Scikit-learn, etc.) loaded.\n",
    "\n",
    "(0) Bo Pang and Lillian Lee, ``A Sentimental Education: Sentiment Analysis Using Subjectivity Summarization Based on Minimum Cuts'',  Proceedings of the ACL, 2004"
   ]
  },
  {
   "cell_type": "code",
   "execution_count": 25,
   "metadata": {
    "collapsed": true
   },
   "outputs": [],
   "source": [
    "import pandas as pd\n",
    "import os\n",
    "import numpy as np"
   ]
  },
  {
   "cell_type": "markdown",
   "metadata": {},
   "source": [
    "Provide file paths to positive and negative review files"
   ]
  },
  {
   "cell_type": "code",
   "execution_count": 4,
   "metadata": {
    "collapsed": true
   },
   "outputs": [],
   "source": [
    "pos_dir = './review_polarity/txt_sentoken/pos'\n",
    "neg_dir = './review_polarity/txt_sentoken/neg'"
   ]
  },
  {
   "cell_type": "markdown",
   "metadata": {},
   "source": [
    "The original dataset broke up each review into sentences contained in one file for each review, likely for better feature construction. We want to explore simple sentiment classification, so we have to undo this process.\n",
    "\n",
    "For each directory, load file, take each line in file and put into one long string, combine it with the associated polarity tag. Do so for all files in the directory. Return a lsit of tuples."
   ]
  },
  {
   "cell_type": "code",
   "execution_count": 5,
   "metadata": {
    "collapsed": false
   },
   "outputs": [],
   "source": [
    "def reviews(polarity_dir, polarity):\n",
    "    file_list = os.listdir(polarity_dir)\n",
    "    print len(file_list)\n",
    "    review_bank = []\n",
    "    for fname in file_list:\n",
    "        f = open(os.path.join(polarity_dir, fname))\n",
    "        file_string = ''\n",
    "        for line in f:\n",
    "            line = line.strip('\\n')\n",
    "            file_string = file_string + ' ' + line\n",
    "        review_bank.append(file_string)\n",
    "    label_list = [polarity for f in file_list]\n",
    "    return zip(review_bank, label_list)"
   ]
  },
  {
   "cell_type": "code",
   "execution_count": 6,
   "metadata": {
    "collapsed": false
   },
   "outputs": [
    {
     "name": "stdout",
     "output_type": "stream",
     "text": [
      "1000\n",
      "1000\n"
     ]
    }
   ],
   "source": [
    "pos_reviews = reviews(pos_dir, 1)\n",
    "neg_reviews = reviews(neg_dir, 0)"
   ]
  },
  {
   "cell_type": "markdown",
   "metadata": {},
   "source": [
    "##Dealing with Data: DataFrames\n",
    "Dataframes are convenient format for dealing with small to medium sized data (data which can fit into memory ~8GB). Pandas is a library which implements dataframes for python (largely inspired by the same concept in R). Dataframes are essentially spreadsheets, or objects with data and columns. The columns can hold different types of data, where each row is indexed. From this arrangement, one can do a lot of data munging. From selecting data, dealing with missing values (a.k.a., imputation; very important in the real world of noisey, messy data), simple statistics, time series, to more database-esque type functions: merging, and grouping.\n",
    "\n",
    "This piece of software is crucial for exploritory data analysis, and quick mockups of classifiers. It is widely used in the industry (check most data science job listings). "
   ]
  },
  {
   "cell_type": "code",
   "execution_count": 7,
   "metadata": {
    "collapsed": false
   },
   "outputs": [],
   "source": [
    "# place the parsed data into a dataframe\n",
    "review_array = np.concatenate((pos_reviews, neg_reviews), axis=0)\n",
    "review_df = pd.DataFrame(review_array, columns=['review', 'sentiment'])\n",
    "# the pandas lib. interprets the sentiment as a string. So we correct\n",
    "# this.\n",
    "review_df['sentiment'] = pd.to_numeric(review_df.sentiment)"
   ]
  },
  {
   "cell_type": "code",
   "execution_count": 8,
   "metadata": {
    "collapsed": false
   },
   "outputs": [
    {
     "data": {
      "text/html": [
       "<div>\n",
       "<table border=\"1\" class=\"dataframe\">\n",
       "  <thead>\n",
       "    <tr style=\"text-align: right;\">\n",
       "      <th></th>\n",
       "      <th>review</th>\n",
       "      <th>sentiment</th>\n",
       "    </tr>\n",
       "  </thead>\n",
       "  <tbody>\n",
       "    <tr>\n",
       "      <th>1995</th>\n",
       "      <td>if anything , \" stigmata \" should be taken as...</td>\n",
       "      <td>0</td>\n",
       "    </tr>\n",
       "    <tr>\n",
       "      <th>1996</th>\n",
       "      <td>john boorman's \" zardoz \" is a goofy cinemati...</td>\n",
       "      <td>0</td>\n",
       "    </tr>\n",
       "    <tr>\n",
       "      <th>1997</th>\n",
       "      <td>the kids in the hall are an acquired taste . ...</td>\n",
       "      <td>0</td>\n",
       "    </tr>\n",
       "    <tr>\n",
       "      <th>1998</th>\n",
       "      <td>there was a time when john carpenter was a gr...</td>\n",
       "      <td>0</td>\n",
       "    </tr>\n",
       "    <tr>\n",
       "      <th>1999</th>\n",
       "      <td>two party guys bob their heads to haddaway's ...</td>\n",
       "      <td>0</td>\n",
       "    </tr>\n",
       "  </tbody>\n",
       "</table>\n",
       "</div>"
      ],
      "text/plain": [
       "                                                 review  sentiment\n",
       "1995   if anything , \" stigmata \" should be taken as...          0\n",
       "1996   john boorman's \" zardoz \" is a goofy cinemati...          0\n",
       "1997   the kids in the hall are an acquired taste . ...          0\n",
       "1998   there was a time when john carpenter was a gr...          0\n",
       "1999   two party guys bob their heads to haddaway's ...          0"
      ]
     },
     "execution_count": 8,
     "metadata": {},
     "output_type": "execute_result"
    }
   ],
   "source": [
    "review_df.tail()"
   ]
  },
  {
   "cell_type": "markdown",
   "metadata": {},
   "source": [
    "##Employ a little Exporitory Data Analysis (EDA)"
   ]
  },
  {
   "cell_type": "code",
   "execution_count": 9,
   "metadata": {
    "collapsed": false
   },
   "outputs": [
    {
     "name": "stdout",
     "output_type": "stream",
     "text": [
      "                                              review  sentiment  review_len\n",
      "0   films adapted from comic books have had plent...          1        4227\n",
      "1   every now and then a movie comes along from a...          1        4096\n",
      "2   you've got mail works alot better than it des...          1        2421\n",
      "3    \" jaws \" is a rare film that grabs your atte...          1        6092\n",
      "4   moviemaking is a lot like being the general m...          1        3898\n"
     ]
    }
   ],
   "source": [
    "review_df[\"review_len\"] = review_df[\"review\"].apply(lambda x: len(x))\n",
    "print review_df.head()"
   ]
  },
  {
   "cell_type": "code",
   "execution_count": 10,
   "metadata": {
    "collapsed": false
   },
   "outputs": [
    {
     "name": "stderr",
     "output_type": "stream",
     "text": [
      ":0: FutureWarning: IPython widgets are experimental and may change in the future.\n"
     ]
    },
    {
     "data": {
      "text/plain": [
       "<matplotlib.text.Text at 0x11d0e5310>"
      ]
     },
     "execution_count": 10,
     "metadata": {},
     "output_type": "execute_result"
    },
    {
     "data": {
      "image/png": "[encoded data removed]",
      "text/plain": [
       "<matplotlib.figure.Figure at 0x11d022e10>"
      ]
     },
     "metadata": {},
     "output_type": "display_data"
    }
   ],
   "source": [
    "# Plot the distribution of review lengths\n",
    "import seaborn as sns\n",
    "import matplotlib.pyplot as plt\n",
    "%matplotlib inline\n",
    "sns.set(style=\"white\", palette=\"muted\", color_codes=True)\n",
    "sns.distplot(review_df[review_df[\"sentiment\"] == 1]['review_len'], color='b', label='Positive')\n",
    "sns.distplot(review_df[review_df[\"sentiment\"] == 0]['review_len'], color='m', label='Negative')\n",
    "plt.legend()\n",
    "plt.xlabel('Review Character Length')"
   ]
  },
  {
   "cell_type": "markdown",
   "metadata": {},
   "source": [
    "You can attempt some for yourself: try to find the most common words in the corpus, and see the overlap with so-called 'stop words'. What should you do if the correlate heavily? What are the most common words from both camps? How much over lap is there?"
   ]
  },
  {
   "cell_type": "markdown",
   "metadata": {},
   "source": [
    "##Split the data into training and testing data"
   ]
  },
  {
   "cell_type": "markdown",
   "metadata": {},
   "source": [
    "Splitting data is an important step in any classification process, where one has a hold out set (test set) which the classifier never sees), and one trains the classifier on the training set. A usual split is anywhere between 60/40, and 80/20. Here we choose 75/25.\n",
    "\n",
    "Be sure to 'stratify' your split, namely, have the same proportion of each class in both the training and test sets, as it is in the whole data set."
   ]
  },
  {
   "cell_type": "code",
   "execution_count": 11,
   "metadata": {
    "collapsed": true
   },
   "outputs": [],
   "source": [
    "from sklearn.model_selection import train_test_split\n",
    "X_train, X_test, y_train, y_test = train_test_split(review_df.review.values, review_df.sentiment.values,\n",
    "                                                    stratify=review_df.sentiment.values, test_size=0.25,\n",
    "                                                    random_state=42) "
   ]
  },
  {
   "cell_type": "code",
   "execution_count": 12,
   "metadata": {
    "collapsed": false
   },
   "outputs": [
    {
     "name": "stdout",
     "output_type": "stream",
     "text": [
      "(1500,)\n",
      "(500,)\n"
     ]
    }
   ],
   "source": [
    "print X_train.shape\n",
    "print X_test.shape"
   ]
  },
  {
   "cell_type": "markdown",
   "metadata": {},
   "source": [
    "##Feature Creation in NLP Problems"
   ]
  },
  {
   "cell_type": "markdown",
   "metadata": {},
   "source": [
    "Here we create the usual common features for NLP ML tasks: the bag of words. We construct a dictionary of all words in the training set of reviews. From here, we break down the semantic structure of the review and create a vector whose elemental values correspond to the count of a given word in a review. Therefore, each word is a feature, and the feature space is extremely sparse. Note: we can also save some semantic structure by treating word pairs (bigrams) as features, or generalize this to ngrams.\n",
    "\n",
    "The transformation of the written word to some numerical representation is important step to using most classifiers in Scikit Learn."
   ]
  },
  {
   "cell_type": "code",
   "execution_count": 13,
   "metadata": {
    "collapsed": false
   },
   "outputs": [
    {
     "data": {
      "text/plain": [
       "(1500, 434163)"
      ]
     },
     "execution_count": 13,
     "metadata": {},
     "output_type": "execute_result"
    }
   ],
   "source": [
    "from sklearn.feature_extraction.text import CountVectorizer\n",
    "count_vect = CountVectorizer(ngram_range=(1, 2))\n",
    "X_train_counts = count_vect.fit_transform(X_train)\n",
    "X_train_counts.shape"
   ]
  },
  {
   "cell_type": "markdown",
   "metadata": {},
   "source": [
    "Here we further extend the transformation of the feature space by the inclusion of term-frequency inverse-document transformations. Instead of the raw word-count vector above, we can normalize the counts over the vector, weighting the words with respect to the phrase itself.\n",
    "\n",
    "Inverse document scaling, scales each word weight in the particular review to how common it is in the corpus (the review data set). More uncommon words are weighted more highly (hence 'inverse' in the transformation name), whereas more common words are weighted less, such as articles in a sentence (these common words are often also noted as 'stop words', see below)."
   ]
  },
  {
   "cell_type": "code",
   "execution_count": 14,
   "metadata": {
    "collapsed": false
   },
   "outputs": [
    {
     "data": {
      "text/plain": [
       "(1500, 434163)"
      ]
     },
     "execution_count": 14,
     "metadata": {},
     "output_type": "execute_result"
    }
   ],
   "source": [
    "from sklearn.feature_extraction.text import TfidfTransformer\n",
    "tf_transformer = TfidfTransformer(use_idf=False).fit(X_train_counts)\n",
    "X_train_tf = tf_transformer.transform(X_train_counts)\n",
    "X_train_tf.shape\n"
   ]
  },
  {
   "cell_type": "code",
   "execution_count": 15,
   "metadata": {
    "collapsed": false
   },
   "outputs": [
    {
     "data": {
      "text/plain": [
       "(1500, 434163)"
      ]
     },
     "execution_count": 15,
     "metadata": {},
     "output_type": "execute_result"
    }
   ],
   "source": [
    "tfidf_transformer = TfidfTransformer()\n",
    "X_train_tfidf = tfidf_transformer.fit_transform(X_train_counts)\n",
    "X_train_tfidf.shape"
   ]
  },
  {
   "cell_type": "markdown",
   "metadata": {},
   "source": [
    "##Training your Classifier"
   ]
  },
  {
   "cell_type": "code",
   "execution_count": 16,
   "metadata": {
    "collapsed": true
   },
   "outputs": [],
   "source": [
    "from sklearn.naive_bayes import MultinomialNB\n",
    "clf = MultinomialNB().fit(X_train_tfidf, y_train)"
   ]
  },
  {
   "cell_type": "code",
   "execution_count": 17,
   "metadata": {
    "collapsed": true
   },
   "outputs": [],
   "source": [
    "X_test_counts = count_vect.transform(X_test)\n",
    "X_test_tfidf = tfidf_transformer.transform(X_test_counts)"
   ]
  },
  {
   "cell_type": "code",
   "execution_count": 18,
   "metadata": {
    "collapsed": false
   },
   "outputs": [],
   "source": [
    "predicted = clf.predict(X_test_tfidf)"
   ]
  },
  {
   "cell_type": "code",
   "execution_count": 19,
   "metadata": {
    "collapsed": false
   },
   "outputs": [
    {
     "name": "stdout",
     "output_type": "stream",
     "text": [
      "ROC Accuracy:  0.832\n"
     ]
    }
   ],
   "source": [
    "# Checking the accuracy of our classifier\n",
    "from sklearn.metrics import roc_auc_score\n",
    "print 'ROC Accuracy: ', roc_auc_score(y_test, predicted)"
   ]
  },
  {
   "cell_type": "code",
   "execution_count": 20,
   "metadata": {
    "collapsed": false
   },
   "outputs": [
    {
     "name": "stdout",
     "output_type": "stream",
     "text": [
      "ROC Accuracy:  0.804\n"
     ]
    }
   ],
   "source": [
    "from sklearn.linear_model import SGDClassifier\n",
    "clf = SGDClassifier(loss='hinge', penalty='l2', alpha=1e-3, n_iter=5, random_state=42).fit(X_train_tfidf, y_train)\n",
    "predicted = clf.predict(X_test_tfidf)\n",
    "print 'ROC Accuracy: ', roc_auc_score(y_test, predicted)"
   ]
  },
  {
   "cell_type": "markdown",
   "metadata": {},
   "source": [
    "##Grid Searching"
   ]
  },
  {
   "cell_type": "markdown",
   "metadata": {},
   "source": [
    "An important part of machine learning is known as hypertuning. This is process of fitting the hyperparameters of your model to the training data.\n",
    "\n",
    "As always one should also always be cautious of overfitting your data when hypertuning your model. We can circumvent this problem through crossvalidation.\n",
    "\n",
    "Below, we use a grid search method, to iterate over various combinations of parameters for our different models to find the optimum, cross-validated set of hyperparameters for our data."
   ]
  },
  {
   "cell_type": "code",
   "execution_count": 21,
   "metadata": {
    "collapsed": false
   },
   "outputs": [
    {
     "name": "stdout",
     "output_type": "stream",
     "text": [
      "Best parameters set found on training set:\n",
      "{'penalty': 'elasticnet', 'alpha': 0.0001}\n",
      "0.921617777778\n"
     ]
    }
   ],
   "source": [
    "from sklearn.model_selection import GridSearchCV\n",
    "tuning_parameters = {'alpha': [1e-2, 1e-3, 1e-4, 1e-7], 'penalty': ['none', 'l2', 'l1','elasticnet']}\n",
    "clf = GridSearchCV(SGDClassifier(random_state=42, n_iter=5), tuning_parameters, cv=5, verbose=0, n_jobs=-1,\n",
    "                   scoring='roc_auc')\n",
    "clf.fit(X_train_tfidf, y_train)\n",
    "\n",
    "\n",
    "print(\"Best parameters set found on training set:\")\n",
    "print(clf.best_params_)\n",
    "print clf.best_score_"
   ]
  },
  {
   "cell_type": "code",
   "execution_count": 22,
   "metadata": {
    "collapsed": false
   },
   "outputs": [
    {
     "name": "stdout",
     "output_type": "stream",
     "text": [
      "0.842\n"
     ]
    }
   ],
   "source": [
    "predicted_SGD = clf.predict(X_test_tfidf)\n",
    "print roc_auc_score(y_test, predicted_SGD)"
   ]
  },
  {
   "cell_type": "code",
   "execution_count": 23,
   "metadata": {
    "collapsed": false
   },
   "outputs": [
    {
     "name": "stdout",
     "output_type": "stream",
     "text": [
      "Best parameters set found on training set:\n",
      "{'alpha': 0.7, 'fit_prior': True}\n",
      "0.83\n"
     ]
    }
   ],
   "source": [
    "from sklearn.model_selection import GridSearchCV\n",
    "\n",
    "tuning_parameters = {'alpha': [1e-2, 1e-3, 1e-4, 1e-1,0.25, 0.5, 0.7, 0.9, 1], 'fit_prior':[True, False]}\n",
    "clf = GridSearchCV(MultinomialNB(), tuning_parameters, cv=5, n_jobs=-1, verbose=0, scoring='roc_auc')\n",
    "clf.fit(X_train_tfidf, y_train)\n",
    "\n",
    "\n",
    "print(\"Best parameters set found on training set:\")\n",
    "print(clf.best_params_)\n",
    "predicted_mb = clf.predict(X_test_tfidf)\n",
    "print roc_auc_score(y_test, predicted_mb)"
   ]
  },
  {
   "cell_type": "markdown",
   "metadata": {},
   "source": [
    "##Building Pipelines"
   ]
  },
  {
   "cell_type": "markdown",
   "metadata": {},
   "source": [
    "Pipelines are useful tools when transforming data, and then fitting it. There is often a fixed series of steps from data to classifier training, and pipelines help this.\n",
    "\n",
    "Interestingly, one can apply a number of transforms to the data and then apply a classifier. What's interesting, is that this can also be used in conjuction with GridSearcCV (which we applied earlier), to further tune our classifier, and the transformation stage.\n",
    "\n",
    "Below, we build a pipeline for the SGD classifier, but we include different preprocessing steps; for example, the selection between using only unigrams, or uni-, and bigrams; or whether to weight the ngrams with respect to inverse document frequency, or to use stop words."
   ]
  },
  {
   "cell_type": "code",
   "execution_count": 24,
   "metadata": {
    "collapsed": false
   },
   "outputs": [],
   "source": [
    "from sklearn.pipeline import Pipeline\n",
    "pipeline = Pipeline([\n",
    "    ('vect', CountVectorizer()),\n",
    "    ('tfidf', TfidfTransformer()),\n",
    "    ('clf', SGDClassifier()),\n",
    "])\n",
    "\n",
    "parameters = {\n",
    "    'vect__max_df': (0.5, 0.75, 1.0),\n",
    "    'vect__stop_words': ('english', None),\n",
    "    #'vect__max_features': (None, 5000, 10000, 50000),\n",
    "    'vect__ngram_range': ((1, 1), (1, 2)),  # unigrams or bigrams\n",
    "    'tfidf__use_idf': (True, False),\n",
    "    'tfidf__norm': ('l1', 'l2'),\n",
    "    'clf__alpha': (1e-4, 0.00001, 0.000001),\n",
    "    'clf__penalty': ('l2', 'elasticnet'),\n",
    "    'clf__n_iter': (5, 10, 50)\n",
    "}"
   ]
  },
  {
   "cell_type": "code",
   "execution_count": 83,
   "metadata": {
    "collapsed": false
   },
   "outputs": [
    {
     "name": "stdout",
     "output_type": "stream",
     "text": [
      "Fitting 3 folds for each of 864 candidates, totalling 2592 fits\n"
     ]
    },
    {
     "name": "stderr",
     "output_type": "stream",
     "text": [
      "[Parallel(n_jobs=-1)]: Done  42 tasks      | elapsed:  1.6min\n",
      "[Parallel(n_jobs=-1)]: Done 192 tasks      | elapsed:  7.6min\n",
      "[Parallel(n_jobs=-1)]: Done 442 tasks      | elapsed: 17.9min\n",
      "[Parallel(n_jobs=-1)]: Done 792 tasks      | elapsed: 32.9min\n",
      "[Parallel(n_jobs=-1)]: Done 1242 tasks      | elapsed: 51.7min\n",
      "[Parallel(n_jobs=-1)]: Done 1792 tasks      | elapsed: 69.4min\n",
      "[Parallel(n_jobs=-1)]: Done 2442 tasks      | elapsed: 95.3min\n",
      "[Parallel(n_jobs=-1)]: Done 2592 out of 2592 | elapsed: 102.0min finished\n"
     ]
    },
    {
     "data": {
      "text/plain": [
       "GridSearchCV(cv=None, error_score='raise',\n",
       "       estimator=Pipeline(steps=[('vect', CountVectorizer(analyzer=u'word', binary=False, decode_error=u'strict',\n",
       "        dtype=<type 'numpy.int64'>, encoding=u'utf-8', input=u'content',\n",
       "        lowercase=True, max_df=1.0, max_features=None, min_df=1,\n",
       "        ngram_range=(1, 1), preprocessor=None, stop_words=None,\n",
       "        st...   penalty='l2', power_t=0.5, random_state=None, shuffle=True,\n",
       "       verbose=0, warm_start=False))]),\n",
       "       fit_params={}, iid=True, n_jobs=-1,\n",
       "       param_grid={'vect__ngram_range': ((1, 1), (1, 2)), 'tfidf__use_idf': (True, False), 'tfidf__norm': ('l1', 'l2'), 'vect__stop_words': ('english', None), 'vect__max_df': (0.5, 0.75, 1.0), 'clf__penalty': ('l2', 'elasticnet'), 'clf__n_iter': (5, 10, 50), 'clf__alpha': (0.0001, 1e-05, 1e-06)},\n",
       "       pre_dispatch='2*n_jobs', refit=True, return_train_score=True,\n",
       "       scoring='roc_auc', verbose=1)"
      ]
     },
     "execution_count": 83,
     "metadata": {},
     "output_type": "execute_result"
    }
   ],
   "source": [
    "grid_search = GridSearchCV(pipeline, parameters, n_jobs=-1, verbose=1, scoring='roc_auc')\n",
    "grid_search.fit(X_train, y_train)"
   ]
  },
  {
   "cell_type": "markdown",
   "metadata": {},
   "source": [
    "##Pipeline Findings\n",
    "Below we see what the best combination of preprocessing transformations, and then gridsearch, hyperparameters achieve the best trained classifier."
   ]
  },
  {
   "cell_type": "code",
   "execution_count": 54,
   "metadata": {
    "collapsed": false
   },
   "outputs": [
    {
     "name": "stdout",
     "output_type": "stream",
     "text": [
      "Best score: 0.849\n",
      "Best parameters set:\n",
      "\tclf__alpha: 0.0001\n",
      "\tclf__n_iter: 10\n",
      "\tclf__penalty: 'elasticnet'\n",
      "\ttfidf__norm: 'l2'\n",
      "\ttfidf__use_idf: True\n",
      "\tvect__max_df: 0.75\n",
      "\tvect__ngram_range: (1, 2)\n",
      "\tvect__stop_words: None\n"
     ]
    }
   ],
   "source": [
    "print(\"Best score: %0.3f\" % grid_search.best_score_)\n",
    "print(\"Best parameters set:\")\n",
    "best_parameters = grid_search.best_estimator_.get_params()\n",
    "for param_name in sorted(parameters.keys()):\n",
    "    print(\"\\t%s: %r\" % (param_name, best_parameters[param_name]))"
   ]
  },
  {
   "cell_type": "code",
   "execution_count": 58,
   "metadata": {
    "collapsed": false
   },
   "outputs": [
    {
     "data": {
      "text/plain": [
       "SGDClassifier(alpha=0.0001, average=False, class_weight=None, epsilon=0.1,\n",
       "       eta0=0.0, fit_intercept=True, l1_ratio=0.15,\n",
       "       learning_rate='optimal', loss='hinge', n_iter=10, n_jobs=1,\n",
       "       penalty='elasticnet', power_t=0.5, random_state=None, shuffle=True,\n",
       "       verbose=0, warm_start=False)"
      ]
     },
     "execution_count": 58,
     "metadata": {},
     "output_type": "execute_result"
    }
   ],
   "source": [
    "best_parameters['clf']"
   ]
  },
  {
   "cell_type": "code",
   "execution_count": 59,
   "metadata": {
    "collapsed": false
   },
   "outputs": [
    {
     "data": {
      "text/plain": [
       "CountVectorizer(analyzer=u'word', binary=False, decode_error=u'strict',\n",
       "        dtype=<type 'numpy.int64'>, encoding=u'utf-8', input=u'content',\n",
       "        lowercase=True, max_df=0.75, max_features=None, min_df=1,\n",
       "        ngram_range=(1, 2), preprocessor=None, stop_words=None,\n",
       "        strip_accents=None, token_pattern=u'(?u)\\\\b\\\\w\\\\w+\\\\b',\n",
       "        tokenizer=None, vocabulary=None)"
      ]
     },
     "execution_count": 59,
     "metadata": {},
     "output_type": "execute_result"
    }
   ],
   "source": [
    "best_parameters['vect']"
   ]
  },
  {
   "cell_type": "markdown",
   "metadata": {},
   "source": [
    "Below we apply the best preprocessing transformations to our test data, and then predict the test results from our best trained classifier."
   ]
  },
  {
   "cell_type": "code",
   "execution_count": 61,
   "metadata": {
    "collapsed": false
   },
   "outputs": [],
   "source": [
    "best_vect = best_parameters['vect']\n",
    "X_test_counts = best_vect.transform(X_test)\n",
    "X_test_tfidf = best_parameters['tfidf'].transform(X_test_counts)\n",
    "\n",
    "best_predicted = best_parameters['clf'].predict(X_test_tfidf)"
   ]
  },
  {
   "cell_type": "code",
   "execution_count": 62,
   "metadata": {
    "collapsed": false
   },
   "outputs": [
    {
     "name": "stdout",
     "output_type": "stream",
     "text": [
      "0.86\n"
     ]
    }
   ],
   "source": [
    "print roc_auc_score(y_test, best_predicted)"
   ]
  },
  {
   "cell_type": "markdown",
   "metadata": {},
   "source": [
    "We see a marked increase in accuracy of our classifier, via searching the preprocessing space. The usefulness of Pipelines in Scikit-learn show their worth in this instance."
   ]
  },
  {
   "cell_type": "markdown",
   "metadata": {},
   "source": [
    "## Futher improvements\n",
    "There are a number of things that we can do to improve our classifier, that were mentioned in a previous lecture:\n",
    "- Inclusion of external semantic libraries\n",
    "- Incorporating 'part of speech' (POS) tagging.\n",
    "- Using negation methods\n",
    "- Using skip n-grams\n",
    "- Using char n-grams (useful for spelling mistakes)\n",
    "- Create an ensemble model to play to the features of two or more classifiers"
   ]
  },
  {
   "cell_type": "markdown",
   "metadata": {},
   "source": [
    "##Further reading and references\n",
    "- Great tutorial to get into Pandas: [Ten minutes to Pandas](http://pandas.pydata.org/pandas-docs/stable/10min.html)\n",
    "- [Jupyter Notebook Guide](https://www.datacamp.com/community/tutorials/tutorial-jupyter-notebook#gs.PvzdTDk)\n",
    "- [Introduction to Seaborn](http://seaborn.pydata.org/tutorial.html)"
   ]
  },
  {
   "cell_type": "code",
   "execution_count": null,
   "metadata": {
    "collapsed": true
   },
   "outputs": [],
   "source": []
  }
 ],
 "metadata": {
  "kernelspec": {
   "display_name": "Python 2",
   "language": "python",
   "name": "python2"
  },
  "language_info": {
   "codemirror_mode": {
    "name": "ipython",
    "version": 2
   },
   "file_extension": ".py",
   "mimetype": "text/x-python",
   "name": "python",
   "nbconvert_exporter": "python",
   "pygments_lexer": "ipython2",
   "version": "2.7.13"
  }
 },
 "nbformat": 4,
 "nbformat_minor": 0
}
